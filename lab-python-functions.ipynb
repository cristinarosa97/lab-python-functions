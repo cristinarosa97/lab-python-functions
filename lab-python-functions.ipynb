{
 "cells": [
  {
   "cell_type": "markdown",
   "id": "25d7736c-ba17-4aff-b6bb-66eba20fbf4e",
   "metadata": {},
   "source": [
    "# Lab | Functions"
   ]
  },
  {
   "cell_type": "markdown",
   "id": "0c581062-8967-4d93-b06e-62833222f930",
   "metadata": {
    "tags": []
   },
   "source": [
    "## Exercise: Managing Customer Orders with Functions\n",
    "\n",
    "In the previous exercise, you improved the code for managing customer orders by using loops and flow control. Now, let's take it a step further and refactor the code by introducing functions.\n",
    "\n",
    "Follow the steps below to complete the exercise:\n",
    "\n",
    "1. Define a function named `initialize_inventory` that takes `products` as a parameter. Inside the function, implement the code for initializing the inventory dictionary using a loop and user input.\n",
    "\n",
    "2. Define a function named `get_customer_orders` that takes no parameters. Inside the function, implement the code for prompting the user to enter the product names using a loop. The function should return the `customer_orders` set.\n",
    "\n",
    "3. Define a function named `update_inventory` that takes `customer_orders` and `inventory` as parameters. Inside the function, implement the code for updating the inventory dictionary based on the customer orders.\n",
    "\n",
    "4. Define a function named `calculate_order_statistics` that takes `customer_orders` and `products` as parameters. Inside the function, implement the code for calculating the order statistics (total products ordered, and percentage of unique products ordered). The function should return these values.\n",
    "\n",
    "5. Define a function named `print_order_statistics` that takes `order_statistics` as a parameter. Inside the function, implement the code for printing the order statistics.\n",
    "\n",
    "6. Define a function named `print_updated_inventory` that takes `inventory` as a parameter. Inside the function, implement the code for printing the updated inventory.\n",
    "\n",
    "7. Call the functions in the appropriate sequence to execute the program and manage customer orders.\n",
    "\n",
    "Hints for functions:\n",
    "\n",
    "- Consider the input parameters required for each function and their return values.\n",
    "- Utilize function parameters and return values to transfer data between functions.\n",
    "- Test your functions individually to ensure they work correctly.\n",
    "\n",
    "\n"
   ]
  },
  {
   "cell_type": "code",
   "execution_count": 47,
   "id": "6bc9bac5-c07d-44fc-82cd-76f671465dec",
   "metadata": {},
   "outputs": [],
   "source": [
    "products = [\"t-shirt\", \"mug\", \"hat\", \"book\", \"keychain\"]\n",
    "\n",
    "#1\n",
    "def initialize_inventory(products):\n",
    "    inventory = {}\n",
    "    for product in products:\n",
    "        inventory[product] = int(input(f\"Number of {product} available in the inventory\"))\n",
    "    return inventory\n",
    "\n",
    "#2\n",
    "def get_customer_orders(): \n",
    "    customer_orders = set()\n",
    "\n",
    "    while True:\n",
    "        product = input(f\"Select a product that you want to order {products}\")\n",
    "        customer_orders.add(product)\n",
    "        add_another = input(\"Do you want to add another product? (yes/no): \")\n",
    "        if add_another != \"yes\":\n",
    "            break\n",
    "                \n",
    "    return customer_orders\n",
    "\n",
    "#3\n",
    "def update_inventory(customer_orders, inventory):\n",
    "    \n",
    "    for product in customer_orders:\n",
    "        if product in inventory:\n",
    "            inventory[product] -= 1\n",
    "    return inventory\n",
    "\n",
    "#4\n",
    "def calculate_order_statistics (customer_orders, products):\n",
    "    available_products =list(inventory.values())\n",
    "    total = len(customer_orders)\n",
    "    \n",
    "    for x in range(len(available_products)):\n",
    "        available_products[x] = int(available_products[x])\n",
    "\n",
    "    total_available_products = sum(available_products)\n",
    "    percentage = int(total / total_available_products * 100)\n",
    "\n",
    "    order_status = (total_available_products, percentage)\n",
    "    \n",
    "    return order_status\n",
    "\n",
    "#5\n",
    "def print_order_statistics(order_statistics):\n",
    "    available_products =list(inventory.values())\n",
    "    total_available_products = sum(available_products)\n",
    "    percentage = int(len(customer_orders) / total_available_products * 100)\n",
    "    print(\"Order statistics\")\n",
    "    print(f\"Total producs ordered: {len(customer_orders)}\")\n",
    "    print(f\"Percentage of unique products ordered: {percentage} %\")\n",
    "\n",
    "#6\n",
    "def print_updated_inventory(inventory):\n",
    "    return print(f\"Updated inventory: {inventory}\")\n",
    "\n"
   ]
  },
  {
   "cell_type": "code",
   "execution_count": 49,
   "id": "5c4641f0-bea7-476a-93d4-350777167d67",
   "metadata": {},
   "outputs": [
    {
     "name": "stdin",
     "output_type": "stream",
     "text": [
      "Number of t-shirt available in the inventory 4\n",
      "Number of mug available in the inventory 4\n",
      "Number of hat available in the inventory 4\n",
      "Number of book available in the inventory 4\n",
      "Number of keychain available in the inventory 4\n",
      "Select a product that you want to order ['t-shirt', 'mug', 'hat', 'book', 'keychain'] mug\n",
      "Do you want to add another product? (yes/no):  yes\n",
      "Select a product that you want to order ['t-shirt', 'mug', 'hat', 'book', 'keychain'] hat\n",
      "Do you want to add another product? (yes/no):  no\n"
     ]
    },
    {
     "name": "stdout",
     "output_type": "stream",
     "text": [
      "Order statistics\n",
      "Total producs ordered: 2\n",
      "Percentage of unique products ordered: 11 %\n",
      "Updated inventory: {'t-shirt': 4, 'mug': 3, 'hat': 3, 'book': 4, 'keychain': 4}\n"
     ]
    }
   ],
   "source": [
    "inventory = initialize_inventory(products)\n",
    "customer_orders = get_customer_orders()\n",
    "update_inventory(customer_orders, inventory)\n",
    "order_statistics = calculate_order_statistics (customer_orders, products)\n",
    "print_order_statistics(order_statistics)\n",
    "print_updated_inventory(inventory)"
   ]
  },
  {
   "cell_type": "code",
   "execution_count": null,
   "id": "6b08ea62-c79b-42f4-85a8-f7250620629c",
   "metadata": {},
   "outputs": [],
   "source": []
  }
 ],
 "metadata": {
  "kernelspec": {
   "display_name": "Python 3 (ipykernel)",
   "language": "python",
   "name": "python3"
  },
  "language_info": {
   "codemirror_mode": {
    "name": "ipython",
    "version": 3
   },
   "file_extension": ".py",
   "mimetype": "text/x-python",
   "name": "python",
   "nbconvert_exporter": "python",
   "pygments_lexer": "ipython3",
   "version": "3.12.4"
  }
 },
 "nbformat": 4,
 "nbformat_minor": 5
}
